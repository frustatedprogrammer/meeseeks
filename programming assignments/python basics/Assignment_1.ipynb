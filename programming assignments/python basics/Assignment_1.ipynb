{
 "cells": [
  {
   "cell_type": "code",
   "execution_count": 2,
   "metadata": {},
   "outputs": [
    {
     "name": "stdout",
     "output_type": "stream",
     "text": [
      "hello world\n"
     ]
    }
   ],
   "source": [
    "#print hello world\n",
    "print('hello world')"
   ]
  },
  {
   "cell_type": "code",
   "execution_count": 7,
   "metadata": {},
   "outputs": [
    {
     "name": "stdout",
     "output_type": "stream",
     "text": [
      "enter value a:\n",
      "6\n",
      "enter value b:\n",
      "8\n",
      "sum= 14\n",
      "divide= 0.75\n"
     ]
    }
   ],
   "source": [
    "#program to do arithmetical operations addition and division\n",
    "\n",
    "print(\"enter value a:\")\n",
    "a = float(input())\n",
    "print(\"enter value b:\")\n",
    "b = float(input())\n",
    "\n",
    "sum = a+b\n",
    "print('sum=',sum)\n",
    "\n",
    "\n",
    "if(b==0):\n",
    "    print('cannot divide with 0')\n",
    "    divide = 'infinite'\n",
    "else:\n",
    "    divide = a/b\n",
    "print('divide=',divide)\n",
    "\n"
   ]
  },
  {
   "cell_type": "code",
   "execution_count": 8,
   "metadata": {},
   "outputs": [
    {
     "name": "stdout",
     "output_type": "stream",
     "text": [
      "enter length of base:\n",
      "5\n",
      "enter length of height:\n",
      "5\n",
      "area of triangle =  12.5\n"
     ]
    }
   ],
   "source": [
    "#program to find the area of a triangle\n",
    "\n",
    "print(\"enter length of base:\")\n",
    "b = float(input())\n",
    "print(\"enter length of height:\")\n",
    "h = float(input())\n",
    "\n",
    "area = (h*b)/2\n",
    "\n",
    "print('area of triangle = ', area)"
   ]
  },
  {
   "cell_type": "code",
   "execution_count": 10,
   "metadata": {},
   "outputs": [
    {
     "name": "stdout",
     "output_type": "stream",
     "text": [
      "enter value a:\n",
      "55\n",
      "enter value b:\n",
      "66\n",
      "a =  66.0\n",
      "b =  55.0\n"
     ]
    }
   ],
   "source": [
    "#program to swap two variables\n",
    "print(\"enter value a:\")\n",
    "a = float(input())\n",
    "print(\"enter value b:\")\n",
    "b = float(input())\n",
    "\n",
    "c = a\n",
    "a=b\n",
    "b=c\n",
    "\n",
    "print('a = ',a)\n",
    "print('b = ',b)\n"
   ]
  },
  {
   "cell_type": "code",
   "execution_count": 13,
   "metadata": {},
   "outputs": [
    {
     "name": "stdout",
     "output_type": "stream",
     "text": [
      "0.4377587540219062\n"
     ]
    }
   ],
   "source": [
    "#print random value\n",
    "import random\n",
    "random_number = random.random()\n",
    "print(random_number)"
   ]
  },
  {
   "cell_type": "code",
   "execution_count": null,
   "metadata": {},
   "outputs": [],
   "source": []
  },
  {
   "cell_type": "code",
   "execution_count": null,
   "metadata": {},
   "outputs": [],
   "source": []
  }
 ],
 "metadata": {
  "kernelspec": {
   "display_name": "Python 3",
   "language": "python",
   "name": "python3"
  },
  "language_info": {
   "codemirror_mode": {
    "name": "ipython",
    "version": 3
   },
   "file_extension": ".py",
   "mimetype": "text/x-python",
   "name": "python",
   "nbconvert_exporter": "python",
   "pygments_lexer": "ipython3",
   "version": "3.8.5"
  }
 },
 "nbformat": 4,
 "nbformat_minor": 4
}
