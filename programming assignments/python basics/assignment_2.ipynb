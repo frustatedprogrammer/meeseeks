{
 "cells": [
  {
   "cell_type": "code",
   "execution_count": 9,
   "metadata": {},
   "outputs": [
    {
     "name": "stdout",
     "output_type": "stream",
     "text": [
      "enter km :5\n",
      "miles =  3.106855\n"
     ]
    }
   ],
   "source": [
    "#convert km to miles\n",
    "km = float(input(\"enter km :\"))\n",
    "miles = km * 0.621371\n",
    "print('miles = ',miles)"
   ]
  },
  {
   "cell_type": "code",
   "execution_count": 10,
   "metadata": {},
   "outputs": [
    {
     "name": "stdout",
     "output_type": "stream",
     "text": [
      "enter celcius :4\n",
      "fahrenheit =  39.2\n"
     ]
    }
   ],
   "source": [
    "#convert c to f\n",
    "c = float(input(\"enter celcius :\"))\n",
    "f = (c *9/5) + 32 \n",
    "print('fahrenheit = ',f)"
   ]
  },
  {
   "cell_type": "code",
   "execution_count": 12,
   "metadata": {},
   "outputs": [
    {
     "name": "stdout",
     "output_type": "stream",
     "text": [
      "Enter year (yy): 2021\n",
      "Enter month (mm): 3\n",
      "     March 2021\n",
      "Mo Tu We Th Fr Sa Su\n",
      " 1  2  3  4  5  6  7\n",
      " 8  9 10 11 12 13 14\n",
      "15 16 17 18 19 20 21\n",
      "22 23 24 25 26 27 28\n",
      "29 30 31\n",
      "\n"
     ]
    }
   ],
   "source": [
    "#display calendar\n",
    "import calendar\n",
    "\n",
    "yy = int(input(\"Enter year (yy): \"))\n",
    "mm = int(input(\"Enter month (mm): \"))\n",
    "\n",
    "\n",
    "print(calendar.month(yy, mm))"
   ]
  },
  {
   "cell_type": "code",
   "execution_count": 25,
   "metadata": {},
   "outputs": [
    {
     "name": "stdout",
     "output_type": "stream",
     "text": [
      "enter value a :  2\n",
      "enter value b :  5\n",
      "enter value c :  -3\n",
      "x1 : 0.5\n",
      "x2 : -3.0\n"
     ]
    }
   ],
   "source": [
    "#quadratic equation\n",
    "import math \n",
    "\n",
    "a = float(input(\"enter value a :  \"))\n",
    "b = float(input(\"enter value b :  \"))\n",
    "c = float(input(\"enter value c :  \"))\n",
    "\n",
    "inner_value = (b*b) - (4*a*c)\n",
    "if(inner_value>0):\n",
    "    sqrt_value = sqrt((b*b) - (4*a*c))\n",
    "\n",
    "    x1 = (-b + sqrt_value )/(2*a)\n",
    "    x2 = (-b - sqrt_value )/(2*a)\n",
    "\n",
    "    print('x1 :',x1)\n",
    "    print('x2 :',x2)\n",
    "else:\n",
    "    print(\"b*b-4ac is less than 0\")"
   ]
  },
  {
   "cell_type": "code",
   "execution_count": 26,
   "metadata": {},
   "outputs": [
    {
     "name": "stdout",
     "output_type": "stream",
     "text": [
      "enter a :1\n",
      "enter b :2\n",
      "a : 2\n",
      "b : 1\n"
     ]
    }
   ],
   "source": [
    "#swap without temp variable\n",
    "a = int(input('enter a :'))\n",
    "b = int(input('enter b :'))\n",
    "a = a+b\n",
    "b=a-b\n",
    "a=a-b\n",
    "print('a :',a)\n",
    "print('b :',b)"
   ]
  },
  {
   "cell_type": "code",
   "execution_count": null,
   "metadata": {},
   "outputs": [],
   "source": []
  }
 ],
 "metadata": {
  "kernelspec": {
   "display_name": "Python 3",
   "language": "python",
   "name": "python3"
  },
  "language_info": {
   "codemirror_mode": {
    "name": "ipython",
    "version": 3
   },
   "file_extension": ".py",
   "mimetype": "text/x-python",
   "name": "python",
   "nbconvert_exporter": "python",
   "pygments_lexer": "ipython3",
   "version": "3.8.5"
  }
 },
 "nbformat": 4,
 "nbformat_minor": 4
}
